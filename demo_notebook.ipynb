{
 "cells": [
  {
   "cell_type": "raw",
   "id": "e1c288b3",
   "metadata": {},
   "source": [
    "---\n",
    "title: \"Jupyter Notebook Demo\"\n",
    "author: \"Marie Curious\"\n",
    "date: \"May 22nd, 2021\"\n",
    "format: \n",
    "  html:\n",
    "    code-fold: true\n",
    "---"
   ]
  },
  {
   "cell_type": "markdown",
   "id": "dff7518c",
   "metadata": {},
   "source": [
    "## Demo Notebook\n",
    "\n",
    "Helper functions:"
   ]
  },
  {
   "cell_type": "code",
   "execution_count": 2,
   "id": "e9ccbd4e",
   "metadata": {},
   "outputs": [],
   "source": [
    "def reverse_complement(nuc_sequence: str) -> str:\n",
    "    \"\"\"\n",
    "    Returns the reverse complement of a nucleotide sequence.\n",
    "    >>> reverse_complement('ACGT')\n",
    "    'ACGT'\n",
    "    >>> reverse_complement('ATCGTGCTGCTGTCGTCAAGAC')\n",
    "    'GTCTTGACGACAGCAGCACGAT'\n",
    "    >>> reverse_complement('TGCTAGCATCGAGTCGATCGATATATTTAGCATCAGCATT')\n",
    "    'AATGCTGATGCTAAATATATCGATCGACTCGATGCTAGCA'\n",
    "     \"\"\"\n",
    "    complements = {\n",
    "        'A': 'T',\n",
    "        'C': 'G',\n",
    "        'G': 'C',\n",
    "        'T': 'A',\n",
    "        '[': ']',\n",
    "        ']': '[',\n",
    "    }\n",
    "    rev_seq = ''.join([complements[s] for s in nuc_sequence[::-1]])\n",
    "    return rev_seq\n",
    "\n",
    "def random_dna_seq(seq_length):\n",
    "    \"\"\"Generates a random DNA sequence of length seq_length\"\"\"\n",
    "    from random import choice\n",
    "    return ''.join(choice('ACTG') for _ in range(seq_length))"
   ]
  },
  {
   "cell_type": "code",
   "execution_count": 3,
   "id": "a59c4bfb",
   "metadata": {},
   "outputs": [],
   "source": [
    "dna_seqs = [random_dna_seq(20) for _ in range(10)]"
   ]
  },
  {
   "cell_type": "code",
   "execution_count": 4,
   "id": "516a5024",
   "metadata": {},
   "outputs": [
    {
     "name": "stdout",
     "output_type": "stream",
     "text": [
      "The reverse complement of dna seq. 0 is CCGCGAGTTCCGGCTGAGGC.\n",
      "The reverse complement of dna seq. 1 is TTGAGCGTCCGGATCGAGTC.\n",
      "The reverse complement of dna seq. 2 is CCCTCGTAGCTGTCCACATG.\n",
      "The reverse complement of dna seq. 3 is GAGTTGGACTAGACACAGCA.\n",
      "The reverse complement of dna seq. 4 is AAGCCCGAAATGCCGCTGGC.\n",
      "The reverse complement of dna seq. 5 is AAAAAAAATGCCTTTAAGTT.\n",
      "The reverse complement of dna seq. 6 is GAGTTCCGTTGAAGCAATCG.\n",
      "The reverse complement of dna seq. 7 is GGTGCATAAAATTGACGTAG.\n",
      "The reverse complement of dna seq. 8 is CCCATCAAAAGATCGGAATC.\n",
      "The reverse complement of dna seq. 9 is TTCCTCGGTGAAGAGATACA.\n"
     ]
    }
   ],
   "source": [
    "for i, dna_seq in enumerate(dna_seqs):\n",
    "    print(f'The reverse complement of dna seq. {i} is {reverse_complement(dna_seq)}.')"
   ]
  }
 ],
 "metadata": {
  "kernelspec": {
   "display_name": "Python 3",
   "language": "python",
   "name": "python3"
  },
  "language_info": {
   "codemirror_mode": {
    "name": "ipython",
    "version": 3
   },
   "file_extension": ".py",
   "mimetype": "text/x-python",
   "name": "python",
   "nbconvert_exporter": "python",
   "pygments_lexer": "ipython3",
   "version": "3.9.5"
  }
 },
 "nbformat": 4,
 "nbformat_minor": 5
}
